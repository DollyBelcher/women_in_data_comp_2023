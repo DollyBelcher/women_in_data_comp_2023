{
 "cells": [
  {
   "cell_type": "code",
   "execution_count": 2,
   "id": "840f78cf",
   "metadata": {
    "ExecuteTime": {
     "end_time": "2023-09-28T23:13:27.047065Z",
     "start_time": "2023-09-28T23:13:23.983560Z"
    }
   },
   "outputs": [],
   "source": [
    "import pandas as pd \n",
    "import numpy as np\n",
    "import matplotlib.pyplot as plt\n",
    "import geopandas as gpd\n",
    "import contextily as cx\n",
    "import geodatasets\n",
    "import folium as fo"
   ]
  },
  {
   "cell_type": "code",
   "execution_count": 3,
   "id": "80813413",
   "metadata": {
    "ExecuteTime": {
     "end_time": "2023-09-28T22:42:42.743522Z",
     "start_time": "2023-09-28T22:42:41.791911Z"
    }
   },
   "outputs": [],
   "source": [
    "grant_funds_df = pd.read_csv(\"../Data/Community_Development_Block_Grant_Activity.csv\")"
   ]
  },
  {
   "cell_type": "code",
   "execution_count": 4,
   "id": "2964ddae",
   "metadata": {
    "ExecuteTime": {
     "end_time": "2023-09-28T22:42:42.779336Z",
     "start_time": "2023-09-28T22:42:42.746859Z"
    }
   },
   "outputs": [
    {
     "data": {
      "text/html": [
       "<div>\n",
       "<style scoped>\n",
       "    .dataframe tbody tr th:only-of-type {\n",
       "        vertical-align: middle;\n",
       "    }\n",
       "\n",
       "    .dataframe tbody tr th {\n",
       "        vertical-align: top;\n",
       "    }\n",
       "\n",
       "    .dataframe thead th {\n",
       "        text-align: right;\n",
       "    }\n",
       "</style>\n",
       "<table border=\"1\" class=\"dataframe\">\n",
       "  <thead>\n",
       "    <tr style=\"text-align: right;\">\n",
       "      <th></th>\n",
       "      <th>X</th>\n",
       "      <th>Y</th>\n",
       "      <th>OBJECTID</th>\n",
       "      <th>ID</th>\n",
       "      <th>GRANTEE</th>\n",
       "      <th>GRANTEE_TYPE</th>\n",
       "      <th>GRANTEE_ID</th>\n",
       "      <th>IDIS_ACTV_ID</th>\n",
       "      <th>ADDRESS</th>\n",
       "      <th>CITY</th>\n",
       "      <th>STATE</th>\n",
       "      <th>ZIP</th>\n",
       "      <th>LAT</th>\n",
       "      <th>LON</th>\n",
       "      <th>GROUPING</th>\n",
       "      <th>NAME</th>\n",
       "      <th>ALIAS</th>\n",
       "      <th>ACTV_FUNDING_AMT</th>\n",
       "      <th>COMPLETED_DT</th>\n",
       "      <th>ID_CHAR</th>\n",
       "    </tr>\n",
       "  </thead>\n",
       "  <tbody>\n",
       "    <tr>\n",
       "      <th>0</th>\n",
       "      <td>-72.971180</td>\n",
       "      <td>41.290948</td>\n",
       "      <td>1</td>\n",
       "      <td>900000000198196</td>\n",
       "      <td>WEST HAVEN</td>\n",
       "      <td>52.0</td>\n",
       "      <td>8177.0</td>\n",
       "      <td>1624</td>\n",
       "      <td>2 Tetlow St, 2 Tetlow Street</td>\n",
       "      <td>West Haven</td>\n",
       "      <td>CT</td>\n",
       "      <td>6516</td>\n",
       "      <td>41.290948</td>\n",
       "      <td>-72.971180</td>\n",
       "      <td>Public Services</td>\n",
       "      <td>Youth Services</td>\n",
       "      <td>NaN</td>\n",
       "      <td>5000.0</td>\n",
       "      <td>03/27/2013</td>\n",
       "      <td>900000000198196</td>\n",
       "    </tr>\n",
       "    <tr>\n",
       "      <th>1</th>\n",
       "      <td>-72.980388</td>\n",
       "      <td>41.255712</td>\n",
       "      <td>2</td>\n",
       "      <td>900000000196780</td>\n",
       "      <td>WEST HAVEN</td>\n",
       "      <td>52.0</td>\n",
       "      <td>8177.0</td>\n",
       "      <td>1618</td>\n",
       "      <td>3 Schoolhouse Ln</td>\n",
       "      <td>West Haven</td>\n",
       "      <td>CT</td>\n",
       "      <td>6516</td>\n",
       "      <td>41.255712</td>\n",
       "      <td>-72.980388</td>\n",
       "      <td>Public Services</td>\n",
       "      <td>Youth Services</td>\n",
       "      <td>NaN</td>\n",
       "      <td>10000.0</td>\n",
       "      <td>03/27/2013</td>\n",
       "      <td>900000000196780</td>\n",
       "    </tr>\n",
       "    <tr>\n",
       "      <th>2</th>\n",
       "      <td>-72.944177</td>\n",
       "      <td>41.262145</td>\n",
       "      <td>3</td>\n",
       "      <td>900000000196748</td>\n",
       "      <td>WEST HAVEN</td>\n",
       "      <td>52.0</td>\n",
       "      <td>8177.0</td>\n",
       "      <td>1614</td>\n",
       "      <td>201 Noble St</td>\n",
       "      <td>West Haven</td>\n",
       "      <td>CT</td>\n",
       "      <td>6516</td>\n",
       "      <td>41.262145</td>\n",
       "      <td>-72.944177</td>\n",
       "      <td>Public Services</td>\n",
       "      <td>Child Care Services</td>\n",
       "      <td>NaN</td>\n",
       "      <td>10000.0</td>\n",
       "      <td>03/27/2013</td>\n",
       "      <td>900000000196748</td>\n",
       "    </tr>\n",
       "    <tr>\n",
       "      <th>3</th>\n",
       "      <td>-72.951564</td>\n",
       "      <td>41.276154</td>\n",
       "      <td>4</td>\n",
       "      <td>900000000158838</td>\n",
       "      <td>WEST HAVEN</td>\n",
       "      <td>52.0</td>\n",
       "      <td>8177.0</td>\n",
       "      <td>1612</td>\n",
       "      <td>277 Elm St</td>\n",
       "      <td>West Haven</td>\n",
       "      <td>CT</td>\n",
       "      <td>6516</td>\n",
       "      <td>41.276154</td>\n",
       "      <td>-72.951564</td>\n",
       "      <td>Economic Development</td>\n",
       "      <td>Rehabilitation: Publicly or Privately Owned Co...</td>\n",
       "      <td>NaN</td>\n",
       "      <td>3902.0</td>\n",
       "      <td>12/27/2012</td>\n",
       "      <td>900000000158838</td>\n",
       "    </tr>\n",
       "    <tr>\n",
       "      <th>4</th>\n",
       "      <td>-72.971180</td>\n",
       "      <td>41.290948</td>\n",
       "      <td>5</td>\n",
       "      <td>900000000133420</td>\n",
       "      <td>WEST HAVEN</td>\n",
       "      <td>52.0</td>\n",
       "      <td>8177.0</td>\n",
       "      <td>1608</td>\n",
       "      <td>2 Tetlow St</td>\n",
       "      <td>West Haven</td>\n",
       "      <td>CT</td>\n",
       "      <td>6516</td>\n",
       "      <td>41.290948</td>\n",
       "      <td>-72.971180</td>\n",
       "      <td>Public Services</td>\n",
       "      <td>Youth Services</td>\n",
       "      <td>NaN</td>\n",
       "      <td>5000.0</td>\n",
       "      <td>12/27/2012</td>\n",
       "      <td>900000000133420</td>\n",
       "    </tr>\n",
       "  </tbody>\n",
       "</table>\n",
       "</div>"
      ],
      "text/plain": [
       "           X          Y  OBJECTID               ID     GRANTEE  GRANTEE_TYPE  \\\n",
       "0 -72.971180  41.290948         1  900000000198196  WEST HAVEN          52.0   \n",
       "1 -72.980388  41.255712         2  900000000196780  WEST HAVEN          52.0   \n",
       "2 -72.944177  41.262145         3  900000000196748  WEST HAVEN          52.0   \n",
       "3 -72.951564  41.276154         4  900000000158838  WEST HAVEN          52.0   \n",
       "4 -72.971180  41.290948         5  900000000133420  WEST HAVEN          52.0   \n",
       "\n",
       "   GRANTEE_ID  IDIS_ACTV_ID                       ADDRESS        CITY STATE  \\\n",
       "0      8177.0          1624  2 Tetlow St, 2 Tetlow Street  West Haven    CT   \n",
       "1      8177.0          1618              3 Schoolhouse Ln  West Haven    CT   \n",
       "2      8177.0          1614                  201 Noble St  West Haven    CT   \n",
       "3      8177.0          1612                    277 Elm St  West Haven    CT   \n",
       "4      8177.0          1608                   2 Tetlow St  West Haven    CT   \n",
       "\n",
       "    ZIP        LAT        LON              GROUPING  \\\n",
       "0  6516  41.290948 -72.971180       Public Services   \n",
       "1  6516  41.255712 -72.980388       Public Services   \n",
       "2  6516  41.262145 -72.944177       Public Services   \n",
       "3  6516  41.276154 -72.951564  Economic Development   \n",
       "4  6516  41.290948 -72.971180       Public Services   \n",
       "\n",
       "                                                NAME ALIAS  ACTV_FUNDING_AMT  \\\n",
       "0                                     Youth Services   NaN            5000.0   \n",
       "1                                     Youth Services   NaN           10000.0   \n",
       "2                                Child Care Services   NaN           10000.0   \n",
       "3  Rehabilitation: Publicly or Privately Owned Co...   NaN            3902.0   \n",
       "4                                     Youth Services   NaN            5000.0   \n",
       "\n",
       "  COMPLETED_DT          ID_CHAR  \n",
       "0   03/27/2013  900000000198196  \n",
       "1   03/27/2013  900000000196780  \n",
       "2   03/27/2013  900000000196748  \n",
       "3   12/27/2012  900000000158838  \n",
       "4   12/27/2012  900000000133420  "
      ]
     },
     "execution_count": 4,
     "metadata": {},
     "output_type": "execute_result"
    }
   ],
   "source": [
    "grant_funds_df.head(5)"
   ]
  },
  {
   "cell_type": "code",
   "execution_count": 5,
   "id": "005857e4",
   "metadata": {
    "ExecuteTime": {
     "end_time": "2023-09-28T22:42:42.838610Z",
     "start_time": "2023-09-28T22:42:42.782576Z"
    }
   },
   "outputs": [],
   "source": [
    "labels = grant_funds_df.groupby(['STATE'])['STATE'].count().sort_values(ascending=False).index\n",
    "values = grant_funds_df.groupby(['STATE'])['STATE'].count().sort_values(ascending=False).values"
   ]
  },
  {
   "cell_type": "code",
   "execution_count": 6,
   "id": "54205dca",
   "metadata": {
    "ExecuteTime": {
     "end_time": "2023-09-28T22:42:43.334756Z",
     "start_time": "2023-09-28T22:42:42.865494Z"
    }
   },
   "outputs": [
    {
     "data": {
      "image/png": "[encoded data removed]",
      "text/plain": [
       "<Figure size 640x480 with 1 Axes>"
      ]
     },
     "metadata": {},
     "output_type": "display_data"
    }
   ],
   "source": [
    "plt.bar(x=labels, height=values)\n",
    "plt.xticks(rotation=90)\n",
    "plt.subplots_adjust(bottom=0.15)  # Increase the space at the bottom\n",
    "plt.tight_layout()\n",
    "plt.show;"
   ]
  },
  {
   "cell_type": "code",
   "execution_count": 7,
   "id": "43d6643c",
   "metadata": {
    "ExecuteTime": {
     "end_time": "2023-09-28T22:42:43.342476Z",
     "start_time": "2023-09-28T22:42:43.337888Z"
    }
   },
   "outputs": [],
   "source": [
    "x = grant_funds_df['X']\n",
    "y = grant_funds_df['Y']"
   ]
  },
  {
   "cell_type": "code",
   "execution_count": 8,
   "id": "a5ad2efd",
   "metadata": {
    "ExecuteTime": {
     "end_time": "2023-09-28T22:42:44.510119Z",
     "start_time": "2023-09-28T22:42:43.440286Z"
    }
   },
   "outputs": [
    {
     "data": {
      "image/png": "[encoded data removed]",
      "text/plain": [
       "<Figure size 640x480 with 1 Axes>"
      ]
     },
     "metadata": {},
     "output_type": "display_data"
    }
   ],
   "source": [
    "plt.scatter(x,y);"
   ]
  },
  {
   "cell_type": "code",
   "execution_count": null,
   "id": "cfac1cee",
   "metadata": {},
   "outputs": [],
   "source": []
  }
 ],
 "metadata": {
  "kernelspec": {
   "display_name": "Python 3 (ipykernel)",
   "language": "python",
   "name": "python3"
  },
  "language_info": {
   "codemirror_mode": {
    "name": "ipython",
    "version": 3
   },
   "file_extension": ".py",
   "mimetype": "text/x-python",
   "name": "python",
   "nbconvert_exporter": "python",
   "pygments_lexer": "ipython3",
   "version": "3.10.6"
  },
  "toc": {
   "base_numbering": 1,
   "nav_menu": {
    "height": "177px",
    "width": "160px"
   },
   "number_sections": true,
   "sideBar": true,
   "skip_h1_title": false,
   "title_cell": "Table of Contents",
   "title_sidebar": "Contents",
   "toc_cell": false,
   "toc_position": {},
   "toc_section_display": true,
   "toc_window_display": false
  }
 },
 "nbformat": 4,
 "nbformat_minor": 5
}
