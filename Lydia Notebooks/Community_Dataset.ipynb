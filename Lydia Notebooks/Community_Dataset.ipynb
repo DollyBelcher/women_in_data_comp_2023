{
 "cells": [
  {
   "cell_type": "markdown",
   "id": "70895401",
   "metadata": {},
   "source": [
    "# Analysis of Community Projects dataset"
   ]
  },
  {
   "cell_type": "markdown",
   "id": "95472e90",
   "metadata": {},
   "source": [
    "## Setup"
   ]
  },
  {
   "cell_type": "markdown",
   "id": "2145958b",
   "metadata": {},
   "source": [
    "### Imports as necessary"
   ]
  },
  {
   "cell_type": "code",
   "execution_count": 1,
   "id": "c7c4708c",
   "metadata": {
    "ExecuteTime": {
     "end_time": "2023-10-05T21:48:01.869708Z",
     "start_time": "2023-10-05T21:48:01.866590Z"
    }
   },
   "outputs": [],
   "source": [
    "import pandas as pd\n",
    "import numpy as np\n",
    "import matplotlib.pyplot as plt"
   ]
  },
  {
   "cell_type": "markdown",
   "id": "4e7101ef",
   "metadata": {},
   "source": [
    "### Read in required dataset"
   ]
  },
  {
   "cell_type": "code",
   "execution_count": 54,
   "id": "c11d3402",
   "metadata": {
    "ExecuteTime": {
     "end_time": "2023-10-05T21:29:42.430316Z",
     "start_time": "2023-10-05T21:29:41.425668Z"
    }
   },
   "outputs": [],
   "source": [
    "community_df = pd.read_csv(\"../Data/Community_Development_Block_Grant_Activity.csv\")"
   ]
  },
  {
   "cell_type": "code",
   "execution_count": 75,
   "id": "36ae45f4",
   "metadata": {
    "ExecuteTime": {
     "end_time": "2023-10-05T21:33:28.720387Z",
     "start_time": "2023-10-05T21:33:28.700765Z"
    }
   },
   "outputs": [
    {
     "data": {
      "text/html": [
       "<div>\n",
       "<style scoped>\n",
       "    .dataframe tbody tr th:only-of-type {\n",
       "        vertical-align: middle;\n",
       "    }\n",
       "\n",
       "    .dataframe tbody tr th {\n",
       "        vertical-align: top;\n",
       "    }\n",
       "\n",
       "    .dataframe thead th {\n",
       "        text-align: right;\n",
       "    }\n",
       "</style>\n",
       "<table border=\"1\" class=\"dataframe\">\n",
       "  <thead>\n",
       "    <tr style=\"text-align: right;\">\n",
       "      <th></th>\n",
       "      <th>X</th>\n",
       "      <th>Y</th>\n",
       "      <th>OBJECTID</th>\n",
       "      <th>ID</th>\n",
       "      <th>GRANTEE</th>\n",
       "      <th>GRANTEE_TYPE</th>\n",
       "      <th>GRANTEE_ID</th>\n",
       "      <th>IDIS_ACTV_ID</th>\n",
       "      <th>ADDRESS</th>\n",
       "      <th>CITY</th>\n",
       "      <th>STATE</th>\n",
       "      <th>ZIP</th>\n",
       "      <th>LAT</th>\n",
       "      <th>LON</th>\n",
       "      <th>GROUPING</th>\n",
       "      <th>NAME</th>\n",
       "      <th>ALIAS</th>\n",
       "      <th>ACTV_FUNDING_AMT</th>\n",
       "      <th>COMPLETED_DT</th>\n",
       "      <th>ID_CHAR</th>\n",
       "    </tr>\n",
       "  </thead>\n",
       "  <tbody>\n",
       "    <tr>\n",
       "      <th>155163</th>\n",
       "      <td>-75.936404</td>\n",
       "      <td>40.341542</td>\n",
       "      <td>155164</td>\n",
       "      <td>907800151</td>\n",
       "      <td>READING</td>\n",
       "      <td>51.0</td>\n",
       "      <td>9078.0</td>\n",
       "      <td>151</td>\n",
       "      <td>130 W Buttonwood St,                          ...</td>\n",
       "      <td>Reading</td>\n",
       "      <td>PA</td>\n",
       "      <td>19601</td>\n",
       "      <td>40.341542</td>\n",
       "      <td>-75.936404</td>\n",
       "      <td>Public Services</td>\n",
       "      <td>Other Public Services Not Listed in 05A-05Y, 03T</td>\n",
       "      <td>NaN</td>\n",
       "      <td>0.00</td>\n",
       "      <td>01/01/0001</td>\n",
       "      <td>907800151</td>\n",
       "    </tr>\n",
       "    <tr>\n",
       "      <th>308438</th>\n",
       "      <td>-73.845508</td>\n",
       "      <td>40.909620</td>\n",
       "      <td>308439</td>\n",
       "      <td>4607001259</td>\n",
       "      <td>MOUNT VERNON</td>\n",
       "      <td>52.0</td>\n",
       "      <td>46070.0</td>\n",
       "      <td>1259</td>\n",
       "      <td>195 W 1st St,                                 ...</td>\n",
       "      <td>Mount Vernon</td>\n",
       "      <td>NY</td>\n",
       "      <td>10550</td>\n",
       "      <td>40.909620</td>\n",
       "      <td>-73.845508</td>\n",
       "      <td>Public Services</td>\n",
       "      <td>Crime Awareness/Prevention</td>\n",
       "      <td>NaN</td>\n",
       "      <td>0.00</td>\n",
       "      <td>01/01/1988</td>\n",
       "      <td>4607001259</td>\n",
       "    </tr>\n",
       "    <tr>\n",
       "      <th>113231</th>\n",
       "      <td>-73.836835</td>\n",
       "      <td>40.905073</td>\n",
       "      <td>113232</td>\n",
       "      <td>4607001120</td>\n",
       "      <td>MOUNT VERNON</td>\n",
       "      <td>52.0</td>\n",
       "      <td>46070.0</td>\n",
       "      <td>1120</td>\n",
       "      <td>250 S 6th Ave,                                ...</td>\n",
       "      <td>Mount Vernon</td>\n",
       "      <td>NY</td>\n",
       "      <td>10550</td>\n",
       "      <td>40.905073</td>\n",
       "      <td>-73.836835</td>\n",
       "      <td>Public Services</td>\n",
       "      <td>Child Care Services</td>\n",
       "      <td>NaN</td>\n",
       "      <td>0.00</td>\n",
       "      <td>01/01/1989</td>\n",
       "      <td>4607001120</td>\n",
       "    </tr>\n",
       "    <tr>\n",
       "      <th>113421</th>\n",
       "      <td>-73.836835</td>\n",
       "      <td>40.905073</td>\n",
       "      <td>113422</td>\n",
       "      <td>4607001211</td>\n",
       "      <td>MOUNT VERNON</td>\n",
       "      <td>52.0</td>\n",
       "      <td>46070.0</td>\n",
       "      <td>1211</td>\n",
       "      <td>250 S 6th Ave,                                ...</td>\n",
       "      <td>Mount Vernon</td>\n",
       "      <td>NY</td>\n",
       "      <td>10550</td>\n",
       "      <td>40.905073</td>\n",
       "      <td>-73.836835</td>\n",
       "      <td>Public Services</td>\n",
       "      <td>Child Care Services</td>\n",
       "      <td>NaN</td>\n",
       "      <td>0.00</td>\n",
       "      <td>01/01/1989</td>\n",
       "      <td>4607001211</td>\n",
       "    </tr>\n",
       "    <tr>\n",
       "      <th>113419</th>\n",
       "      <td>-73.841043</td>\n",
       "      <td>40.903339</td>\n",
       "      <td>113420</td>\n",
       "      <td>4607001221</td>\n",
       "      <td>MOUNT VERNON</td>\n",
       "      <td>52.0</td>\n",
       "      <td>46070.0</td>\n",
       "      <td>1221</td>\n",
       "      <td>1 Eastchester Ln,                             ...</td>\n",
       "      <td>Mount Vernon</td>\n",
       "      <td>NY</td>\n",
       "      <td>10550</td>\n",
       "      <td>40.903339</td>\n",
       "      <td>-73.841043</td>\n",
       "      <td>Housing</td>\n",
       "      <td>Rehabilitation: Multi-Unit Residential</td>\n",
       "      <td>NaN</td>\n",
       "      <td>0.00</td>\n",
       "      <td>01/01/1989</td>\n",
       "      <td>4607001221</td>\n",
       "    </tr>\n",
       "    <tr>\n",
       "      <th>...</th>\n",
       "      <td>...</td>\n",
       "      <td>...</td>\n",
       "      <td>...</td>\n",
       "      <td>...</td>\n",
       "      <td>...</td>\n",
       "      <td>...</td>\n",
       "      <td>...</td>\n",
       "      <td>...</td>\n",
       "      <td>...</td>\n",
       "      <td>...</td>\n",
       "      <td>...</td>\n",
       "      <td>...</td>\n",
       "      <td>...</td>\n",
       "      <td>...</td>\n",
       "      <td>...</td>\n",
       "      <td>...</td>\n",
       "      <td>...</td>\n",
       "      <td>...</td>\n",
       "      <td>...</td>\n",
       "      <td>...</td>\n",
       "    </tr>\n",
       "    <tr>\n",
       "      <th>104954</th>\n",
       "      <td>-73.364721</td>\n",
       "      <td>40.738901</td>\n",
       "      <td>104955</td>\n",
       "      <td>900000000693414</td>\n",
       "      <td>Babylon Township</td>\n",
       "      <td>52.0</td>\n",
       "      <td>42024.0</td>\n",
       "      <td>1324</td>\n",
       "      <td>59 Cumberbach St</td>\n",
       "      <td>Wyandanch</td>\n",
       "      <td>NY</td>\n",
       "      <td>11798</td>\n",
       "      <td>40.738901</td>\n",
       "      <td>-73.364721</td>\n",
       "      <td>Public Services</td>\n",
       "      <td>Employment Training</td>\n",
       "      <td>NaN</td>\n",
       "      <td>5000.00</td>\n",
       "      <td>12/31/2018</td>\n",
       "      <td>900000000693414</td>\n",
       "    </tr>\n",
       "    <tr>\n",
       "      <th>19263</th>\n",
       "      <td>-87.682180</td>\n",
       "      <td>42.034034</td>\n",
       "      <td>19264</td>\n",
       "      <td>900000000674907</td>\n",
       "      <td>EVANSTON</td>\n",
       "      <td>51.0</td>\n",
       "      <td>17816.0</td>\n",
       "      <td>1252</td>\n",
       "      <td>903 Sherman Ave</td>\n",
       "      <td>Evanston</td>\n",
       "      <td>IL</td>\n",
       "      <td>60202</td>\n",
       "      <td>42.034034</td>\n",
       "      <td>-87.682180</td>\n",
       "      <td>Public Services</td>\n",
       "      <td>Youth Services</td>\n",
       "      <td>NaN</td>\n",
       "      <td>4000.00</td>\n",
       "      <td>12/31/2018</td>\n",
       "      <td>900000000674907</td>\n",
       "    </tr>\n",
       "    <tr>\n",
       "      <th>104958</th>\n",
       "      <td>-73.363851</td>\n",
       "      <td>40.748958</td>\n",
       "      <td>104959</td>\n",
       "      <td>900000000693354</td>\n",
       "      <td>Babylon Township</td>\n",
       "      <td>52.0</td>\n",
       "      <td>42024.0</td>\n",
       "      <td>1320</td>\n",
       "      <td>14 S 20th St</td>\n",
       "      <td>Wyandanch</td>\n",
       "      <td>NY</td>\n",
       "      <td>11798</td>\n",
       "      <td>40.748958</td>\n",
       "      <td>-73.363851</td>\n",
       "      <td>Public Services</td>\n",
       "      <td>Employment Training</td>\n",
       "      <td>NaN</td>\n",
       "      <td>7497.58</td>\n",
       "      <td>12/31/2018</td>\n",
       "      <td>900000000693354</td>\n",
       "    </tr>\n",
       "    <tr>\n",
       "      <th>221476</th>\n",
       "      <td>-121.493729</td>\n",
       "      <td>38.579750</td>\n",
       "      <td>221477</td>\n",
       "      <td>900000000686806</td>\n",
       "      <td>SACRAMENTO</td>\n",
       "      <td>51.0</td>\n",
       "      <td>31467.0</td>\n",
       "      <td>3989</td>\n",
       "      <td>1017 10th St</td>\n",
       "      <td>Sacramento</td>\n",
       "      <td>CA</td>\n",
       "      <td>95814</td>\n",
       "      <td>38.579750</td>\n",
       "      <td>-121.493729</td>\n",
       "      <td>Public Services</td>\n",
       "      <td>Other Public Services Not Listed in 05A-05Y, 03T</td>\n",
       "      <td>NaN</td>\n",
       "      <td>83060.00</td>\n",
       "      <td>12/31/2018</td>\n",
       "      <td>900000000686806</td>\n",
       "    </tr>\n",
       "    <tr>\n",
       "      <th>325736</th>\n",
       "      <td>-79.780619</td>\n",
       "      <td>40.436122</td>\n",
       "      <td>325737</td>\n",
       "      <td>900000000667531</td>\n",
       "      <td>ALLEGHENY COUNTY</td>\n",
       "      <td>90.0</td>\n",
       "      <td>2873.0</td>\n",
       "      <td>6419</td>\n",
       "      <td>2700 Monroeville Blvd</td>\n",
       "      <td>Monroeville</td>\n",
       "      <td>PA</td>\n",
       "      <td>15146</td>\n",
       "      <td>40.436122</td>\n",
       "      <td>-79.780619</td>\n",
       "      <td>Public Improvements</td>\n",
       "      <td>Street Improvements</td>\n",
       "      <td>NaN</td>\n",
       "      <td>43000.00</td>\n",
       "      <td>12/31/2018</td>\n",
       "      <td>900000000667531</td>\n",
       "    </tr>\n",
       "  </tbody>\n",
       "</table>\n",
       "<p>336928 rows × 20 columns</p>\n",
       "</div>"
      ],
      "text/plain": [
       "                 X          Y  OBJECTID               ID           GRANTEE  \\\n",
       "155163  -75.936404  40.341542    155164        907800151           READING   \n",
       "308438  -73.845508  40.909620    308439       4607001259      MOUNT VERNON   \n",
       "113231  -73.836835  40.905073    113232       4607001120      MOUNT VERNON   \n",
       "113421  -73.836835  40.905073    113422       4607001211      MOUNT VERNON   \n",
       "113419  -73.841043  40.903339    113420       4607001221      MOUNT VERNON   \n",
       "...            ...        ...       ...              ...               ...   \n",
       "104954  -73.364721  40.738901    104955  900000000693414  Babylon Township   \n",
       "19263   -87.682180  42.034034     19264  900000000674907          EVANSTON   \n",
       "104958  -73.363851  40.748958    104959  900000000693354  Babylon Township   \n",
       "221476 -121.493729  38.579750    221477  900000000686806        SACRAMENTO   \n",
       "325736  -79.780619  40.436122    325737  900000000667531  ALLEGHENY COUNTY   \n",
       "\n",
       "        GRANTEE_TYPE  GRANTEE_ID  IDIS_ACTV_ID  \\\n",
       "155163          51.0      9078.0           151   \n",
       "308438          52.0     46070.0          1259   \n",
       "113231          52.0     46070.0          1120   \n",
       "113421          52.0     46070.0          1211   \n",
       "113419          52.0     46070.0          1221   \n",
       "...              ...         ...           ...   \n",
       "104954          52.0     42024.0          1324   \n",
       "19263           51.0     17816.0          1252   \n",
       "104958          52.0     42024.0          1320   \n",
       "221476          51.0     31467.0          3989   \n",
       "325736          90.0      2873.0          6419   \n",
       "\n",
       "                                                  ADDRESS          CITY STATE  \\\n",
       "155163  130 W Buttonwood St,                          ...       Reading    PA   \n",
       "308438  195 W 1st St,                                 ...  Mount Vernon    NY   \n",
       "113231  250 S 6th Ave,                                ...  Mount Vernon    NY   \n",
       "113421  250 S 6th Ave,                                ...  Mount Vernon    NY   \n",
       "113419  1 Eastchester Ln,                             ...  Mount Vernon    NY   \n",
       "...                                                   ...           ...   ...   \n",
       "104954                                   59 Cumberbach St     Wyandanch    NY   \n",
       "19263                                     903 Sherman Ave      Evanston    IL   \n",
       "104958                                       14 S 20th St     Wyandanch    NY   \n",
       "221476                                       1017 10th St    Sacramento    CA   \n",
       "325736                              2700 Monroeville Blvd   Monroeville    PA   \n",
       "\n",
       "          ZIP        LAT         LON             GROUPING  \\\n",
       "155163  19601  40.341542  -75.936404      Public Services   \n",
       "308438  10550  40.909620  -73.845508      Public Services   \n",
       "113231  10550  40.905073  -73.836835      Public Services   \n",
       "113421  10550  40.905073  -73.836835      Public Services   \n",
       "113419  10550  40.903339  -73.841043              Housing   \n",
       "...       ...        ...         ...                  ...   \n",
       "104954  11798  40.738901  -73.364721      Public Services   \n",
       "19263   60202  42.034034  -87.682180      Public Services   \n",
       "104958  11798  40.748958  -73.363851      Public Services   \n",
       "221476  95814  38.579750 -121.493729      Public Services   \n",
       "325736  15146  40.436122  -79.780619  Public Improvements   \n",
       "\n",
       "                                                    NAME ALIAS  \\\n",
       "155163  Other Public Services Not Listed in 05A-05Y, 03T   NaN   \n",
       "308438                        Crime Awareness/Prevention   NaN   \n",
       "113231                               Child Care Services   NaN   \n",
       "113421                               Child Care Services   NaN   \n",
       "113419            Rehabilitation: Multi-Unit Residential   NaN   \n",
       "...                                                  ...   ...   \n",
       "104954                               Employment Training   NaN   \n",
       "19263                                     Youth Services   NaN   \n",
       "104958                               Employment Training   NaN   \n",
       "221476  Other Public Services Not Listed in 05A-05Y, 03T   NaN   \n",
       "325736                               Street Improvements   NaN   \n",
       "\n",
       "        ACTV_FUNDING_AMT COMPLETED_DT          ID_CHAR  \n",
       "155163              0.00   01/01/0001        907800151  \n",
       "308438              0.00   01/01/1988       4607001259  \n",
       "113231              0.00   01/01/1989       4607001120  \n",
       "113421              0.00   01/01/1989       4607001211  \n",
       "113419              0.00   01/01/1989       4607001221  \n",
       "...                  ...          ...              ...  \n",
       "104954           5000.00   12/31/2018  900000000693414  \n",
       "19263            4000.00   12/31/2018  900000000674907  \n",
       "104958           7497.58   12/31/2018  900000000693354  \n",
       "221476          83060.00   12/31/2018  900000000686806  \n",
       "325736          43000.00   12/31/2018  900000000667531  \n",
       "\n",
       "[336928 rows x 20 columns]"
      ]
     },
     "execution_count": 75,
     "metadata": {},
     "output_type": "execute_result"
    }
   ],
   "source": [
    "community_df.sort_values(by='COMPLETED_DT').dropna(subset=['COMPLETED_DT'])"
   ]
  },
  {
   "cell_type": "markdown",
   "id": "7cda0df5",
   "metadata": {},
   "source": [
    "### Description of dataset"
   ]
  },
  {
   "cell_type": "markdown",
   "id": "b8208595",
   "metadata": {},
   "source": [
    "- X : Latitude\n",
    "- Y : Longitude\n",
    "- OBJECTID: In ArcGIS, a system-managed value that uniquely identifies a record or feature.\n",
    "- ID: In Integrated Disbursement and Information System (IDIS), a uniquely generated value that identifies the record; Numeric version of ID\n",
    "- GRANTEE: CDBG Grantee Name\n",
    "- GRANTEE_TYPE: Type of Grantee; state grantees (TYPE = 21), entitlement grantees (TYPE = 51, 52, 61),  Hawaiian small cities (TYPE = 77) and consortia (TYPE = 90).  Entitlement grantees can be categorized as metropolitan cities, central city (TYPE = 51), metropolitan cities, other city (TYPE = 52) and urban counties (TYPE = 61).\n",
    "- GRANTEE_ID: Grantee ID associated with CDBG Grantee\n",
    "- IDIS_ACTV_ID: IDIS Activity ID representing the individual activity associated with the CDBG Grantee\n",
    "- ADDRESS: Street Address\n",
    "- CITY: City\n",
    "- STATE: State\n",
    "- ZIP: ZIP Code\n",
    "- LAT: Latitude (decimal)\n",
    "- LON: Longitude (decimal)\n",
    "- GROUPING: Type of CDBG Activity; GROUPING = 'Acquisition' , GROUPING = 'Economic Development', GROUPING = 'Housing', GROUPING = 'Public Improvements', GROUPING = 'Public Services' and GROUPING = 'Other'\n",
    "- NAME: Name of Activity\n",
    "- ALIAS: Alias Name\n",
    "- ACTV_FUNDING_AMT: Activity Funding Amount\n",
    "- COMPLETED_DT: Activity Completion Date\n",
    "- ID_CHAR: In Integrated Disbursement and Information System (IDIS), a uniquely generated value that identifies the record; Character version of ID\n",
    "- SHAPE: The characteristic appearance or visible form of a geographic object as represented on a map"
   ]
  },
  {
   "cell_type": "markdown",
   "id": "542adc84",
   "metadata": {},
   "source": [
    "## Section 1: Basic analysis"
   ]
  },
  {
   "cell_type": "markdown",
   "id": "98fcb382",
   "metadata": {},
   "source": [
    "### First question, which states have the most (and the least) community projects?"
   ]
  },
  {
   "cell_type": "markdown",
   "id": "5c73a3db",
   "metadata": {},
   "source": [
    "**Top States**"
   ]
  },
  {
   "cell_type": "code",
   "execution_count": 4,
   "id": "f96c9963",
   "metadata": {
    "ExecuteTime": {
     "end_time": "2023-10-05T22:09:10.531992Z",
     "start_time": "2023-10-05T22:09:10.513962Z"
    }
   },
   "outputs": [],
   "source": [
    "value_counts = community_df['STATE'].value_counts()\n",
    "community_df['PROJECT_COUNTS'] = community_df['STATE'].map(value_counts)\n",
    "community_df['PERCENTAGE_OF_TOTAL'] = round((community_df['PROJECT_COUNTS'] / len(community_df)) * 100, 2)"
   ]
  },
  {
   "cell_type": "markdown",
   "id": "9686011f",
   "metadata": {},
   "source": [
    "**Top States** (base number)"
   ]
  },
  {
   "cell_type": "code",
   "execution_count": 5,
   "id": "02f6dd4a",
   "metadata": {
    "ExecuteTime": {
     "end_time": "2023-10-05T21:56:07.235081Z",
     "start_time": "2023-10-05T21:56:07.198244Z"
    }
   },
   "outputs": [
    {
     "data": {
      "text/plain": [
       "STATE\n",
       "CA    49935\n",
       "MA    24920\n",
       "NY    23350\n",
       "TX    19225\n",
       "NJ    18981\n",
       "Name: STATE, dtype: int64"
      ]
     },
     "execution_count": 5,
     "metadata": {},
     "output_type": "execute_result"
    }
   ],
   "source": [
    "community_df.groupby(['STATE'])['STATE'].count().sort_values(ascending=False).head()"
   ]
  },
  {
   "cell_type": "markdown",
   "id": "82a9ab02",
   "metadata": {},
   "source": [
    "**Bottom States** (base number)"
   ]
  },
  {
   "cell_type": "code",
   "execution_count": 6,
   "id": "c8dfed58",
   "metadata": {
    "ExecuteTime": {
     "end_time": "2023-10-05T21:50:16.946701Z",
     "start_time": "2023-10-05T21:50:16.909128Z"
    }
   },
   "outputs": [
    {
     "data": {
      "text/plain": [
       "STATE\n",
       "NE    380\n",
       "PR    353\n",
       "AK    227\n",
       "GU     11\n",
       "VI      2\n",
       "Name: STATE, dtype: int64"
      ]
     },
     "execution_count": 6,
     "metadata": {},
     "output_type": "execute_result"
    }
   ],
   "source": [
    "community_df.groupby(['STATE'])['STATE'].count().sort_values(ascending=False).tail()"
   ]
  },
  {
   "cell_type": "code",
   "execution_count": 7,
   "id": "a93372a0-4c91-42a6-a9f6-57dfeec32bcf",
   "metadata": {},
   "outputs": [],
   "source": [
    "columns = ['STATE', 'PERCENTAGE_OF_TOTAL']\n",
    "\n",
    "graphing_df = community_df[columns].drop_duplicates(keep=\"first\").sort_values(\"PERCENTAGE_OF_TOTAL\", ascending=False)"
   ]
  },
  {
   "cell_type": "markdown",
   "id": "5a6662da-c78f-49ef-9342-2cae02c957f9",
   "metadata": {},
   "source": [
    "**Top states** (by percentage)"
   ]
  },
  {
   "cell_type": "code",
   "execution_count": 42,
   "id": "99016b73-8de2-458f-b91b-a8d1279c19ab",
   "metadata": {},
   "outputs": [
    {
     "data": {
      "text/html": [
       "<div>\n",
       "<style scoped>\n",
       "    .dataframe tbody tr th:only-of-type {\n",
       "        vertical-align: middle;\n",
       "    }\n",
       "\n",
       "    .dataframe tbody tr th {\n",
       "        vertical-align: top;\n",
       "    }\n",
       "\n",
       "    .dataframe thead th {\n",
       "        text-align: right;\n",
       "    }\n",
       "</style>\n",
       "<table border=\"1\" class=\"dataframe\">\n",
       "  <thead>\n",
       "    <tr style=\"text-align: right;\">\n",
       "      <th></th>\n",
       "      <th>STATE</th>\n",
       "      <th>PERCENTAGE_OF_TOTAL</th>\n",
       "    </tr>\n",
       "  </thead>\n",
       "  <tbody>\n",
       "    <tr>\n",
       "      <th>190777</th>\n",
       "      <td>CA</td>\n",
       "      <td>14.82</td>\n",
       "    </tr>\n",
       "    <tr>\n",
       "      <th>41570</th>\n",
       "      <td>MA</td>\n",
       "      <td>7.39</td>\n",
       "    </tr>\n",
       "    <tr>\n",
       "      <th>98134</th>\n",
       "      <td>NY</td>\n",
       "      <td>6.93</td>\n",
       "    </tr>\n",
       "    <tr>\n",
       "      <th>153943</th>\n",
       "      <td>TX</td>\n",
       "      <td>5.70</td>\n",
       "    </tr>\n",
       "    <tr>\n",
       "      <th>84297</th>\n",
       "      <td>NJ</td>\n",
       "      <td>5.63</td>\n",
       "    </tr>\n",
       "  </tbody>\n",
       "</table>\n",
       "</div>"
      ],
      "text/plain": [
       "       STATE  PERCENTAGE_OF_TOTAL\n",
       "190777    CA                14.82\n",
       "41570     MA                 7.39\n",
       "98134     NY                 6.93\n",
       "153943    TX                 5.70\n",
       "84297     NJ                 5.63"
      ]
     },
     "execution_count": 42,
     "metadata": {},
     "output_type": "execute_result"
    }
   ],
   "source": [
    "graphing_df.head()"
   ]
  },
  {
   "cell_type": "markdown",
   "id": "68f18728-f0d9-4ccc-9ffa-c790f9923623",
   "metadata": {},
   "source": [
    "**Bottom states** (by percentage)"
   ]
  },
  {
   "cell_type": "code",
   "execution_count": 43,
   "id": "6b8dc90f-5f35-49ae-b58b-7a099b98cb94",
   "metadata": {},
   "outputs": [
    {
     "data": {
      "text/html": [
       "<div>\n",
       "<style scoped>\n",
       "    .dataframe tbody tr th:only-of-type {\n",
       "        vertical-align: middle;\n",
       "    }\n",
       "\n",
       "    .dataframe tbody tr th {\n",
       "        vertical-align: top;\n",
       "    }\n",
       "\n",
       "    .dataframe thead th {\n",
       "        text-align: right;\n",
       "    }\n",
       "</style>\n",
       "<table border=\"1\" class=\"dataframe\">\n",
       "  <thead>\n",
       "    <tr style=\"text-align: right;\">\n",
       "      <th></th>\n",
       "      <th>STATE</th>\n",
       "      <th>PERCENTAGE_OF_TOTAL</th>\n",
       "    </tr>\n",
       "  </thead>\n",
       "  <tbody>\n",
       "    <tr>\n",
       "      <th>82635</th>\n",
       "      <td>NE</td>\n",
       "      <td>0.11</td>\n",
       "    </tr>\n",
       "    <tr>\n",
       "      <th>188719</th>\n",
       "      <td>PR</td>\n",
       "      <td>0.10</td>\n",
       "    </tr>\n",
       "    <tr>\n",
       "      <th>200049</th>\n",
       "      <td>AK</td>\n",
       "      <td>0.07</td>\n",
       "    </tr>\n",
       "    <tr>\n",
       "      <th>188995</th>\n",
       "      <td>GU</td>\n",
       "      <td>0.00</td>\n",
       "    </tr>\n",
       "    <tr>\n",
       "      <th>190278</th>\n",
       "      <td>VI</td>\n",
       "      <td>0.00</td>\n",
       "    </tr>\n",
       "  </tbody>\n",
       "</table>\n",
       "</div>"
      ],
      "text/plain": [
       "       STATE  PERCENTAGE_OF_TOTAL\n",
       "82635     NE                 0.11\n",
       "188719    PR                 0.10\n",
       "200049    AK                 0.07\n",
       "188995    GU                 0.00\n",
       "190278    VI                 0.00"
      ]
     },
     "execution_count": 43,
     "metadata": {},
     "output_type": "execute_result"
    }
   ],
   "source": [
    "graphing_df.tail()"
   ]
  },
  {
   "cell_type": "markdown",
   "id": "fa3d0358-1958-4f4a-8330-9f549ce5a6a8",
   "metadata": {},
   "source": [
    "**Amount of projects as a percentage by state, charted**"
   ]
  },
  {
   "cell_type": "code",
   "execution_count": 41,
   "id": "f93d07d9",
   "metadata": {
    "ExecuteTime": {
     "end_time": "2023-10-05T22:21:37.106913Z",
     "start_time": "2023-10-05T22:18:07.238904Z"
    }
   },
   "outputs": [
    {
     "data": {
      "image/png": "[encoded data removed]",
      "text/plain": [
       "<Figure size 2500x900 with 1 Axes>"
      ]
     },
     "metadata": {},
     "output_type": "display_data"
    },
    {
     "data": {
      "text/plain": [
       "<Figure size 1500x480 with 0 Axes>"
      ]
     },
     "metadata": {},
     "output_type": "display_data"
    }
   ],
   "source": [
    "labels = graphing_df['STATE'].values\n",
    "values = graphing_df['PERCENTAGE_OF_TOTAL'].values\n",
    "plt.figure(figsize=(25,9))\n",
    "plt.bar(x=labels, height=values, width=0.8)\n",
    "plt.xticks(rotation=90)\n",
    "plt.subplots_adjust(bottom=0.15)  # Increase the space at the bottom\n",
    "plt.tight_layout()\n",
    "plt.xlabel(\"State\")\n",
    "plt.ylabel(\"Percentage of total projects per state\")\n",
    "plt.tick_params(axis='x', which='major', labelsize=13)\n",
    "plt.figure().set_figwidth(15)\n",
    "plt.show;"
   ]
  },
  {
   "cell_type": "markdown",
   "id": "6a30a842-e70a-48c6-ad95-e6599b6660a2",
   "metadata": {},
   "source": [
    "### Are there any trends by type of community project?"
   ]
  },
  {
   "cell_type": "code",
   "execution_count": 45,
   "id": "9b487aa2-8a0a-4a81-b89e-75cc88f58bbc",
   "metadata": {},
   "outputs": [
    {
     "data": {
      "text/plain": [
       "Index(['X', 'Y', 'OBJECTID', 'ID', 'GRANTEE', 'GRANTEE_TYPE', 'GRANTEE_ID',\n",
       "       'IDIS_ACTV_ID', 'ADDRESS', 'CITY', 'STATE', 'ZIP', 'LAT', 'LON',\n",
       "       'GROUPING', 'NAME', 'ALIAS', 'ACTV_FUNDING_AMT', 'COMPLETED_DT',\n",
       "       'ID_CHAR', 'PROJECT_COUNTS', 'PERCENTAGE_OF_TOTAL'],\n",
       "      dtype='object')"
      ]
     },
     "execution_count": 45,
     "metadata": {},
     "output_type": "execute_result"
    }
   ],
   "source": [
    "community_df.columns"
   ]
  },
  {
   "cell_type": "markdown",
   "id": "7c76b445-2493-447e-982e-ad243de9c3ee",
   "metadata": {},
   "source": [
    "**Projects by their grouping**"
   ]
  },
  {
   "cell_type": "code",
   "execution_count": 59,
   "id": "335ec76f-f6f6-46ba-9361-3d092e122a29",
   "metadata": {},
   "outputs": [
    {
     "data": {
      "text/plain": [
       "GROUPING\n",
       "Public Services         170546\n",
       "Public Improvements      83028\n",
       "Economic Development     36511\n",
       "Housing                  25225\n",
       "Acquisition              19275\n",
       "Other                     2444\n",
       "Housing Services             8\n",
       "Name: GROUPING, dtype: int64"
      ]
     },
     "execution_count": 59,
     "metadata": {},
     "output_type": "execute_result"
    }
   ],
   "source": [
    "community_df.groupby(['GROUPING'])['GROUPING'].count().sort_values(ascending=False)"
   ]
  },
  {
   "cell_type": "markdown",
   "id": "adf200a6-a859-43f7-8629-4255067bac57",
   "metadata": {},
   "source": [
    "**Projects by their sub grouping**"
   ]
  },
  {
   "cell_type": "code",
   "execution_count": 60,
   "id": "3c5957fe-6092-43ec-ba0a-423441085b56",
   "metadata": {},
   "outputs": [
    {
     "data": {
      "text/plain": [
       "NAME\n",
       "Other Public Services Not Listed in 05A-05Y, 03T                                                 58916\n",
       "Youth Services                                                                                   37390\n",
       "Senior Services                                                                                  20829\n",
       "Other Public Improvements Not Listed in 03A-03S                                                  20683\n",
       "Clearance and Demolition                                                                         17477\n",
       "                                                                                                 ...  \n",
       "Asbestos Removal                                                                                    40\n",
       "CDBG Assistance to Institutions of Higher Education                                                 29\n",
       "Privately Owned Utilities                                                                           28\n",
       "Housing Counseling, under 24 CFR 5.100, Supporting HOME Program Assistance Housing Activities        8\n",
       "Housing Counseling, under 24 CFR 5.100 Supporting Homebuyer Downpayment Assistance (05R)             8\n",
       "Name: NAME, Length: 65, dtype: int64"
      ]
     },
     "execution_count": 60,
     "metadata": {},
     "output_type": "execute_result"
    }
   ],
   "source": [
    "community_df.groupby(['NAME'])['NAME'].count().sort_values(ascending=False)"
   ]
  },
  {
   "cell_type": "markdown",
   "id": "6b0aec6d-b4c7-46fc-970e-b3af4dd8f2e0",
   "metadata": {},
   "source": [
    "**Does this track with spending? I.e. overall, do we spend the most on the grouping with most projects?**"
   ]
  },
  {
   "cell_type": "code",
   "execution_count": 82,
   "id": "1d1e3f73-1584-490d-91eb-23287bd685c8",
   "metadata": {},
   "outputs": [
    {
     "name": "stderr",
     "output_type": "stream",
     "text": [
      "/tmp/ipykernel_21726/1353937440.py:1: FutureWarning: The default value of numeric_only in DataFrameGroupBy.sum is deprecated. In a future version, numeric_only will default to False. Either specify numeric_only or select only columns which should be valid for the function.\n",
      "  spent_per_grouping_df = community_df.groupby(['GROUPING'])[['GROUPING', 'STATE', 'ACTV_FUNDING_AMT']].sum().sort_values(by='ACTV_FUNDING_AMT', ascending=False)\n"
     ]
    },
    {
     "data": {
      "text/html": [
       "<div>\n",
       "<style scoped>\n",
       "    .dataframe tbody tr th:only-of-type {\n",
       "        vertical-align: middle;\n",
       "    }\n",
       "\n",
       "    .dataframe tbody tr th {\n",
       "        vertical-align: top;\n",
       "    }\n",
       "\n",
       "    .dataframe thead th {\n",
       "        text-align: right;\n",
       "    }\n",
       "</style>\n",
       "<table border=\"1\" class=\"dataframe\">\n",
       "  <thead>\n",
       "    <tr style=\"text-align: right;\">\n",
       "      <th></th>\n",
       "      <th>ACTV_FUNDING_AMT</th>\n",
       "    </tr>\n",
       "    <tr>\n",
       "      <th>GROUPING</th>\n",
       "      <th></th>\n",
       "    </tr>\n",
       "  </thead>\n",
       "  <tbody>\n",
       "    <tr>\n",
       "      <th>Public Improvements</th>\n",
       "      <td>$10370755.7k</td>\n",
       "    </tr>\n",
       "    <tr>\n",
       "      <th>Public Services</th>\n",
       "      <td>$5748887.9k</td>\n",
       "    </tr>\n",
       "    <tr>\n",
       "      <th>Economic Development</th>\n",
       "      <td>$3342848.4k</td>\n",
       "    </tr>\n",
       "    <tr>\n",
       "      <th>Housing</th>\n",
       "      <td>$2780741.2k</td>\n",
       "    </tr>\n",
       "    <tr>\n",
       "      <th>Acquisition</th>\n",
       "      <td>$998689.2k</td>\n",
       "    </tr>\n",
       "    <tr>\n",
       "      <th>Other</th>\n",
       "      <td>$224621.3k</td>\n",
       "    </tr>\n",
       "    <tr>\n",
       "      <th>Housing Services</th>\n",
       "      <td>$630.9k</td>\n",
       "    </tr>\n",
       "  </tbody>\n",
       "</table>\n",
       "</div>"
      ],
      "text/plain": [
       "                     ACTV_FUNDING_AMT\n",
       "GROUPING                             \n",
       "Public Improvements      $10370755.7k\n",
       "Public Services           $5748887.9k\n",
       "Economic Development      $3342848.4k\n",
       "Housing                   $2780741.2k\n",
       "Acquisition                $998689.2k\n",
       "Other                      $224621.3k\n",
       "Housing Services              $630.9k"
      ]
     },
     "execution_count": 82,
     "metadata": {},
     "output_type": "execute_result"
    }
   ],
   "source": [
    "spent_per_grouping_df = community_df.groupby(['GROUPING'])[['GROUPING', 'ACTV_FUNDING_AMT']].sum().sort_values(by='ACTV_FUNDING_AMT', ascending=False)\n",
    "spent_per_grouping_df['ACTV_FUNDING_AMT'] = spent_per_grouping_df['ACTV_FUNDING_AMT'].apply(lambda x : \"${:.1f}k\".format((x/1000)))\n",
    "spent_per_grouping_df"
   ]
  },
  {
   "cell_type": "markdown",
   "id": "6906ccdb-ce75-4eb9-b61b-e4994ab70b21",
   "metadata": {},
   "source": [
    "This is over all states, and covers 30 years of completion as well as projects in progress. The numbers are slightly nonsensical, but the order does differ slightly. More overall was spent on Public Improvements, but there were more projects for Public Services. The magnitude is roughly 2x as many projects for Services but around 2x more expensive for Improvements."
   ]
  },
  {
   "cell_type": "markdown",
   "id": "e71cf4e0-3681-4112-bb6b-95e0bfd2b5b6",
   "metadata": {},
   "source": [
    "We can examine this by state too:"
   ]
  },
  {
   "cell_type": "markdown",
   "id": "2d131281-025e-49db-91a1-6ace5094f8cc",
   "metadata": {},
   "source": [
    "For California (highest percentage of projects):"
   ]
  },
  {
   "cell_type": "code",
   "execution_count": 84,
   "id": "c67b95e1-290a-412a-8028-961ebe633f42",
   "metadata": {},
   "outputs": [
    {
     "name": "stderr",
     "output_type": "stream",
     "text": [
      "/tmp/ipykernel_21726/3251841243.py:1: FutureWarning: The default value of numeric_only in DataFrameGroupBy.sum is deprecated. In a future version, numeric_only will default to False. Either specify numeric_only or select only columns which should be valid for the function.\n",
      "  spent_per_grouping_df = community_df[community_df['STATE'] == 'CA'].groupby(['GROUPING'])[['GROUPING', 'ACTV_FUNDING_AMT']].sum().sort_values(by='ACTV_FUNDING_AMT', ascending=False)\n"
     ]
    },
    {
     "data": {
      "text/html": [
       "<div>\n",
       "<style scoped>\n",
       "    .dataframe tbody tr th:only-of-type {\n",
       "        vertical-align: middle;\n",
       "    }\n",
       "\n",
       "    .dataframe tbody tr th {\n",
       "        vertical-align: top;\n",
       "    }\n",
       "\n",
       "    .dataframe thead th {\n",
       "        text-align: right;\n",
       "    }\n",
       "</style>\n",
       "<table border=\"1\" class=\"dataframe\">\n",
       "  <thead>\n",
       "    <tr style=\"text-align: right;\">\n",
       "      <th></th>\n",
       "      <th>ACTV_FUNDING_AMT</th>\n",
       "    </tr>\n",
       "    <tr>\n",
       "      <th>GROUPING</th>\n",
       "      <th></th>\n",
       "    </tr>\n",
       "  </thead>\n",
       "  <tbody>\n",
       "    <tr>\n",
       "      <th>Public Improvements</th>\n",
       "      <td>$1725897.8k</td>\n",
       "    </tr>\n",
       "    <tr>\n",
       "      <th>Public Services</th>\n",
       "      <td>$1126143.6k</td>\n",
       "    </tr>\n",
       "    <tr>\n",
       "      <th>Housing</th>\n",
       "      <td>$583224.0k</td>\n",
       "    </tr>\n",
       "    <tr>\n",
       "      <th>Economic Development</th>\n",
       "      <td>$437556.8k</td>\n",
       "    </tr>\n",
       "    <tr>\n",
       "      <th>Other</th>\n",
       "      <td>$35249.9k</td>\n",
       "    </tr>\n",
       "    <tr>\n",
       "      <th>Acquisition</th>\n",
       "      <td>$22841.8k</td>\n",
       "    </tr>\n",
       "  </tbody>\n",
       "</table>\n",
       "</div>"
      ],
      "text/plain": [
       "                     ACTV_FUNDING_AMT\n",
       "GROUPING                             \n",
       "Public Improvements       $1725897.8k\n",
       "Public Services           $1126143.6k\n",
       "Housing                    $583224.0k\n",
       "Economic Development       $437556.8k\n",
       "Other                       $35249.9k\n",
       "Acquisition                 $22841.8k"
      ]
     },
     "execution_count": 84,
     "metadata": {},
     "output_type": "execute_result"
    }
   ],
   "source": [
    "spent_per_grouping_df = community_df[community_df['STATE'] == 'CA'].groupby(['GROUPING'])[['GROUPING', 'ACTV_FUNDING_AMT']].sum().sort_values(by='ACTV_FUNDING_AMT', ascending=False)\n",
    "spent_per_grouping_df['ACTV_FUNDING_AMT'] = spent_per_grouping_df['ACTV_FUNDING_AMT'].apply(lambda x : \"${:.1f}k\".format((x/1000)))\n",
    "spent_per_grouping_df"
   ]
  },
  {
   "cell_type": "markdown",
   "id": "11dc0c9d-32f7-4241-9ed9-d085f78c04cd",
   "metadata": {},
   "source": [
    "For Arkansas (lowest non-zero percentage):"
   ]
  },
  {
   "cell_type": "code",
   "execution_count": 85,
   "id": "7190a155-9f88-46c8-ad42-fb9c177a32c3",
   "metadata": {},
   "outputs": [
    {
     "name": "stderr",
     "output_type": "stream",
     "text": [
      "/tmp/ipykernel_21726/1648338060.py:1: FutureWarning: The default value of numeric_only in DataFrameGroupBy.sum is deprecated. In a future version, numeric_only will default to False. Either specify numeric_only or select only columns which should be valid for the function.\n",
      "  spent_per_grouping_df = community_df[community_df['STATE'] == 'AK'].groupby(['GROUPING'])[['GROUPING', 'ACTV_FUNDING_AMT']].sum().sort_values(by='ACTV_FUNDING_AMT', ascending=False)\n"
     ]
    },
    {
     "data": {
      "text/html": [
       "<div>\n",
       "<style scoped>\n",
       "    .dataframe tbody tr th:only-of-type {\n",
       "        vertical-align: middle;\n",
       "    }\n",
       "\n",
       "    .dataframe tbody tr th {\n",
       "        vertical-align: top;\n",
       "    }\n",
       "\n",
       "    .dataframe thead th {\n",
       "        text-align: right;\n",
       "    }\n",
       "</style>\n",
       "<table border=\"1\" class=\"dataframe\">\n",
       "  <thead>\n",
       "    <tr style=\"text-align: right;\">\n",
       "      <th></th>\n",
       "      <th>ACTV_FUNDING_AMT</th>\n",
       "    </tr>\n",
       "    <tr>\n",
       "      <th>GROUPING</th>\n",
       "      <th></th>\n",
       "    </tr>\n",
       "  </thead>\n",
       "  <tbody>\n",
       "    <tr>\n",
       "      <th>Public Improvements</th>\n",
       "      <td>$12664.3k</td>\n",
       "    </tr>\n",
       "    <tr>\n",
       "      <th>Public Services</th>\n",
       "      <td>$4160.7k</td>\n",
       "    </tr>\n",
       "    <tr>\n",
       "      <th>Housing</th>\n",
       "      <td>$2618.1k</td>\n",
       "    </tr>\n",
       "    <tr>\n",
       "      <th>Economic Development</th>\n",
       "      <td>$620.3k</td>\n",
       "    </tr>\n",
       "    <tr>\n",
       "      <th>Acquisition</th>\n",
       "      <td>$354.7k</td>\n",
       "    </tr>\n",
       "  </tbody>\n",
       "</table>\n",
       "</div>"
      ],
      "text/plain": [
       "                     ACTV_FUNDING_AMT\n",
       "GROUPING                             \n",
       "Public Improvements         $12664.3k\n",
       "Public Services              $4160.7k\n",
       "Housing                      $2618.1k\n",
       "Economic Development          $620.3k\n",
       "Acquisition                   $354.7k"
      ]
     },
     "execution_count": 85,
     "metadata": {},
     "output_type": "execute_result"
    }
   ],
   "source": [
    "spent_per_grouping_df = community_df[community_df['STATE'] == 'AK'].groupby(['GROUPING'])[['GROUPING', 'ACTV_FUNDING_AMT']].sum().sort_values(by='ACTV_FUNDING_AMT', ascending=False)\n",
    "spent_per_grouping_df['ACTV_FUNDING_AMT'] = spent_per_grouping_df['ACTV_FUNDING_AMT'].apply(lambda x : \"${:.1f}k\".format((x/1000)))\n",
    "spent_per_grouping_df"
   ]
  },
  {
   "cell_type": "markdown",
   "id": "c6bf53fd-936a-47d6-8702-fc2136d22336",
   "metadata": {},
   "source": [
    "## In short:\n",
    "There is a large disparity between the spending on community projects between states, with California being the significant majority spender. \n",
    "\n",
    "Most projects were involving projects for Public Services (activity related to public services, including senior services, legal services, youth services, employment training, health services, homebuyer counseling, food banks, etc.), but most funding was actually allocated to Public Improvements (activity related to public improvements, including senior centers, youth centers, parks, street improvements, water/sewer improvements, child care centers, fire stations, health centers, non-residential historic preservation, etc). This pattern exists between the biggest spender and the smallest non-zero spender."
   ]
  },
  {
   "cell_type": "markdown",
   "id": "55d0fc30-c6c9-44b9-8d53-9dee71d0f230",
   "metadata": {},
   "source": [
    "## If we were to evaluate environmental values, what groups best suit potential environment side-benefits?"
   ]
  },
  {
   "cell_type": "markdown",
   "id": "dfe85c62-df4d-42d5-8b40-57bfd0924035",
   "metadata": {},
   "source": []
  },
  {
   "cell_type": "code",
   "execution_count": null,
   "id": "6e2a2dfe-7f6c-4b7f-bb48-b68a2ece8bea",
   "metadata": {},
   "outputs": [],
   "source": []
  }
 ],
 "metadata": {
  "kernelspec": {
   "display_name": "Python 3 (ipykernel)",
   "language": "python",
   "name": "python3"
  },
  "language_info": {
   "codemirror_mode": {
    "name": "ipython",
    "version": 3
   },
   "file_extension": ".py",
   "mimetype": "text/x-python",
   "name": "python",
   "nbconvert_exporter": "python",
   "pygments_lexer": "ipython3",
   "version": "3.10.6"
  },
  "toc": {
   "base_numbering": 1,
   "nav_menu": {
    "height": "180px",
    "width": "388px"
   },
   "number_sections": true,
   "sideBar": true,
   "skip_h1_title": false,
   "title_cell": "Table of Contents",
   "title_sidebar": "Contents",
   "toc_cell": false,
   "toc_position": {},
   "toc_section_display": true,
   "toc_window_display": false
  }
 },
 "nbformat": 4,
 "nbformat_minor": 5
}
