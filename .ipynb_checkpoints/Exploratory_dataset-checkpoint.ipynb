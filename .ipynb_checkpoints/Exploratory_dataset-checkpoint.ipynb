{
 "cells": [
  {
   "cell_type": "code",
   "execution_count": 1,
   "id": "840f78cf",
   "metadata": {
    "ExecuteTime": {
     "end_time": "2023-09-25T16:16:51.909864Z",
     "start_time": "2023-09-25T16:16:50.783029Z"
    }
   },
   "outputs": [],
   "source": [
    "import pandas as pd \n",
    "import numpy as np\n",
    "import matplotlib.pyplot as plt"
   ]
  },
  {
   "cell_type": "code",
   "execution_count": 2,
   "id": "a78f1c25",
   "metadata": {
    "ExecuteTime": {
     "end_time": "2023-09-25T16:17:11.339790Z",
     "start_time": "2023-09-25T16:17:10.398415Z"
    }
   },
   "outputs": [],
   "source": [
    "grant_funds_df = pd.read_csv(\"Community_Development_Block_Grant_Activity.csv\")"
   ]
  },
  {
   "cell_type": "code",
   "execution_count": 5,
   "id": "56cd09f4",
   "metadata": {
    "ExecuteTime": {
     "end_time": "2023-09-25T16:17:31.759496Z",
     "start_time": "2023-09-25T16:17:31.728664Z"
    }
   },
   "outputs": [
    {
     "data": {
      "text/html": [
       "<div>\n",
       "<style scoped>\n",
       "    .dataframe tbody tr th:only-of-type {\n",
       "        vertical-align: middle;\n",
       "    }\n",
       "\n",
       "    .dataframe tbody tr th {\n",
       "        vertical-align: top;\n",
       "    }\n",
       "\n",
       "    .dataframe thead th {\n",
       "        text-align: right;\n",
       "    }\n",
       "</style>\n",
       "<table border=\"1\" class=\"dataframe\">\n",
       "  <thead>\n",
       "    <tr style=\"text-align: right;\">\n",
       "      <th></th>\n",
       "      <th>X</th>\n",
       "      <th>Y</th>\n",
       "      <th>OBJECTID</th>\n",
       "      <th>ID</th>\n",
       "      <th>GRANTEE</th>\n",
       "      <th>GRANTEE_TYPE</th>\n",
       "      <th>GRANTEE_ID</th>\n",
       "      <th>IDIS_ACTV_ID</th>\n",
       "      <th>ADDRESS</th>\n",
       "      <th>CITY</th>\n",
       "      <th>STATE</th>\n",
       "      <th>ZIP</th>\n",
       "      <th>LAT</th>\n",
       "      <th>LON</th>\n",
       "      <th>GROUPING</th>\n",
       "      <th>NAME</th>\n",
       "      <th>ALIAS</th>\n",
       "      <th>ACTV_FUNDING_AMT</th>\n",
       "      <th>COMPLETED_DT</th>\n",
       "      <th>ID_CHAR</th>\n",
       "    </tr>\n",
       "  </thead>\n",
       "  <tbody>\n",
       "    <tr>\n",
       "      <th>0</th>\n",
       "      <td>-72.971180</td>\n",
       "      <td>41.290948</td>\n",
       "      <td>1</td>\n",
       "      <td>900000000198196</td>\n",
       "      <td>WEST HAVEN</td>\n",
       "      <td>52.0</td>\n",
       "      <td>8177.0</td>\n",
       "      <td>1624</td>\n",
       "      <td>2 Tetlow St, 2 Tetlow Street</td>\n",
       "      <td>West Haven</td>\n",
       "      <td>CT</td>\n",
       "      <td>6516</td>\n",
       "      <td>41.290948</td>\n",
       "      <td>-72.971180</td>\n",
       "      <td>Public Services</td>\n",
       "      <td>Youth Services</td>\n",
       "      <td>NaN</td>\n",
       "      <td>5000.0</td>\n",
       "      <td>03/27/2013</td>\n",
       "      <td>900000000198196</td>\n",
       "    </tr>\n",
       "    <tr>\n",
       "      <th>1</th>\n",
       "      <td>-72.980388</td>\n",
       "      <td>41.255712</td>\n",
       "      <td>2</td>\n",
       "      <td>900000000196780</td>\n",
       "      <td>WEST HAVEN</td>\n",
       "      <td>52.0</td>\n",
       "      <td>8177.0</td>\n",
       "      <td>1618</td>\n",
       "      <td>3 Schoolhouse Ln</td>\n",
       "      <td>West Haven</td>\n",
       "      <td>CT</td>\n",
       "      <td>6516</td>\n",
       "      <td>41.255712</td>\n",
       "      <td>-72.980388</td>\n",
       "      <td>Public Services</td>\n",
       "      <td>Youth Services</td>\n",
       "      <td>NaN</td>\n",
       "      <td>10000.0</td>\n",
       "      <td>03/27/2013</td>\n",
       "      <td>900000000196780</td>\n",
       "    </tr>\n",
       "    <tr>\n",
       "      <th>2</th>\n",
       "      <td>-72.944177</td>\n",
       "      <td>41.262145</td>\n",
       "      <td>3</td>\n",
       "      <td>900000000196748</td>\n",
       "      <td>WEST HAVEN</td>\n",
       "      <td>52.0</td>\n",
       "      <td>8177.0</td>\n",
       "      <td>1614</td>\n",
       "      <td>201 Noble St</td>\n",
       "      <td>West Haven</td>\n",
       "      <td>CT</td>\n",
       "      <td>6516</td>\n",
       "      <td>41.262145</td>\n",
       "      <td>-72.944177</td>\n",
       "      <td>Public Services</td>\n",
       "      <td>Child Care Services</td>\n",
       "      <td>NaN</td>\n",
       "      <td>10000.0</td>\n",
       "      <td>03/27/2013</td>\n",
       "      <td>900000000196748</td>\n",
       "    </tr>\n",
       "    <tr>\n",
       "      <th>3</th>\n",
       "      <td>-72.951564</td>\n",
       "      <td>41.276154</td>\n",
       "      <td>4</td>\n",
       "      <td>900000000158838</td>\n",
       "      <td>WEST HAVEN</td>\n",
       "      <td>52.0</td>\n",
       "      <td>8177.0</td>\n",
       "      <td>1612</td>\n",
       "      <td>277 Elm St</td>\n",
       "      <td>West Haven</td>\n",
       "      <td>CT</td>\n",
       "      <td>6516</td>\n",
       "      <td>41.276154</td>\n",
       "      <td>-72.951564</td>\n",
       "      <td>Economic Development</td>\n",
       "      <td>Rehabilitation: Publicly or Privately Owned Co...</td>\n",
       "      <td>NaN</td>\n",
       "      <td>3902.0</td>\n",
       "      <td>12/27/2012</td>\n",
       "      <td>900000000158838</td>\n",
       "    </tr>\n",
       "    <tr>\n",
       "      <th>4</th>\n",
       "      <td>-72.971180</td>\n",
       "      <td>41.290948</td>\n",
       "      <td>5</td>\n",
       "      <td>900000000133420</td>\n",
       "      <td>WEST HAVEN</td>\n",
       "      <td>52.0</td>\n",
       "      <td>8177.0</td>\n",
       "      <td>1608</td>\n",
       "      <td>2 Tetlow St</td>\n",
       "      <td>West Haven</td>\n",
       "      <td>CT</td>\n",
       "      <td>6516</td>\n",
       "      <td>41.290948</td>\n",
       "      <td>-72.971180</td>\n",
       "      <td>Public Services</td>\n",
       "      <td>Youth Services</td>\n",
       "      <td>NaN</td>\n",
       "      <td>5000.0</td>\n",
       "      <td>12/27/2012</td>\n",
       "      <td>900000000133420</td>\n",
       "    </tr>\n",
       "  </tbody>\n",
       "</table>\n",
       "</div>"
      ],
      "text/plain": [
       "           X          Y  OBJECTID               ID     GRANTEE  GRANTEE_TYPE  \\\n",
       "0 -72.971180  41.290948         1  900000000198196  WEST HAVEN          52.0   \n",
       "1 -72.980388  41.255712         2  900000000196780  WEST HAVEN          52.0   \n",
       "2 -72.944177  41.262145         3  900000000196748  WEST HAVEN          52.0   \n",
       "3 -72.951564  41.276154         4  900000000158838  WEST HAVEN          52.0   \n",
       "4 -72.971180  41.290948         5  900000000133420  WEST HAVEN          52.0   \n",
       "\n",
       "   GRANTEE_ID  IDIS_ACTV_ID                       ADDRESS        CITY STATE  \\\n",
       "0      8177.0          1624  2 Tetlow St, 2 Tetlow Street  West Haven    CT   \n",
       "1      8177.0          1618              3 Schoolhouse Ln  West Haven    CT   \n",
       "2      8177.0          1614                  201 Noble St  West Haven    CT   \n",
       "3      8177.0          1612                    277 Elm St  West Haven    CT   \n",
       "4      8177.0          1608                   2 Tetlow St  West Haven    CT   \n",
       "\n",
       "    ZIP        LAT        LON              GROUPING  \\\n",
       "0  6516  41.290948 -72.971180       Public Services   \n",
       "1  6516  41.255712 -72.980388       Public Services   \n",
       "2  6516  41.262145 -72.944177       Public Services   \n",
       "3  6516  41.276154 -72.951564  Economic Development   \n",
       "4  6516  41.290948 -72.971180       Public Services   \n",
       "\n",
       "                                                NAME ALIAS  ACTV_FUNDING_AMT  \\\n",
       "0                                     Youth Services   NaN            5000.0   \n",
       "1                                     Youth Services   NaN           10000.0   \n",
       "2                                Child Care Services   NaN           10000.0   \n",
       "3  Rehabilitation: Publicly or Privately Owned Co...   NaN            3902.0   \n",
       "4                                     Youth Services   NaN            5000.0   \n",
       "\n",
       "  COMPLETED_DT          ID_CHAR  \n",
       "0   03/27/2013  900000000198196  \n",
       "1   03/27/2013  900000000196780  \n",
       "2   03/27/2013  900000000196748  \n",
       "3   12/27/2012  900000000158838  \n",
       "4   12/27/2012  900000000133420  "
      ]
     },
     "execution_count": 5,
     "metadata": {},
     "output_type": "execute_result"
    }
   ],
   "source": [
    "grant_funds_df.head(5)"
   ]
  },
  {
   "cell_type": "code",
   "execution_count": 28,
   "id": "56c2746a",
   "metadata": {
    "ExecuteTime": {
     "end_time": "2023-09-25T16:29:52.452901Z",
     "start_time": "2023-09-25T16:29:52.410759Z"
    }
   },
   "outputs": [
    {
     "data": {
      "text/plain": [
       "array([  227,  3221,  2188,  3979, 49935,  4057,  9334,   584,   837,\n",
       "       14887,  4848,    11,   385,  1754,   587, 17272,  6118,  3105,\n",
       "        1902,  5005, 24920,  4856,  2332, 11872,  3516,  5429,  1526,\n",
       "         689,  3135,   698,   380,  1762, 18981,   664,  1860, 23350,\n",
       "       17688,  3080,  2893, 18765,   353,  4550,  2472,   553,  3767,\n",
       "       19225,  3417,  4384,     2,   713,  6927,  9883,  1742,   417])"
      ]
     },
     "execution_count": 28,
     "metadata": {},
     "output_type": "execute_result"
    }
   ],
   "source": [
    "grant_funds_df.groupby(['STATE'])['STATE'].count()"
   ]
  },
  {
   "cell_type": "code",
   "execution_count": 42,
   "id": "d7ca2fa5",
   "metadata": {
    "ExecuteTime": {
     "end_time": "2023-09-25T16:36:09.248990Z",
     "start_time": "2023-09-25T16:36:08.623411Z"
    }
   },
   "outputs": [
    {
     "data": {
      "image/png": "[encoded data removed]",
      "text/plain": [
       "<Figure size 640x480 with 1 Axes>"
      ]
     },
     "metadata": {},
     "output_type": "display_data"
    }
   ],
   "source": [
    "plt.bar(x=grant_funds_df.groupby(['STATE'])['STATE'].count().index, height=grant_funds_df.groupby(['STATE'])['STATE'].count().values)\n",
    "plt.xticks(rotation=90)\n",
    "plt.subplots_adjust(bottom=0.15)  # Increase the space at the bottom\n",
    "plt.tight_layout()\n",
    "plt.show;"
   ]
  },
  {
   "cell_type": "code",
   "execution_count": 43,
   "id": "1669717e",
   "metadata": {
    "ExecuteTime": {
     "end_time": "2023-09-25T16:46:20.364875Z",
     "start_time": "2023-09-25T16:46:20.355571Z"
    }
   },
   "outputs": [],
   "source": [
    "x = grant_funds_df['X']\n",
    "y = grant_funds_df['Y']"
   ]
  },
  {
   "cell_type": "code",
   "execution_count": 44,
   "id": "42e2e61a",
   "metadata": {
    "ExecuteTime": {
     "end_time": "2023-09-25T16:46:34.401213Z",
     "start_time": "2023-09-25T16:46:33.290091Z"
    }
   },
   "outputs": [
    {
     "data": {
      "image/png": "[encoded data removed]",
      "text/plain": [
       "<Figure size 640x480 with 1 Axes>"
      ]
     },
     "metadata": {},
     "output_type": "display_data"
    }
   ],
   "source": [
    "plt.scatter(x,y);"
   ]
  },
  {
   "cell_type": "code",
   "execution_count": null,
   "id": "caf66e8f",
   "metadata": {},
   "outputs": [],
   "source": []
  }
 ],
 "metadata": {
  "kernelspec": {
   "display_name": "Python 3 (ipykernel)",
   "language": "python",
   "name": "python3"
  },
  "language_info": {
   "codemirror_mode": {
    "name": "ipython",
    "version": 3
   },
   "file_extension": ".py",
   "mimetype": "text/x-python",
   "name": "python",
   "nbconvert_exporter": "python",
   "pygments_lexer": "ipython3",
   "version": "3.10.6"
  },
  "toc": {
   "base_numbering": 1,
   "nav_menu": {},
   "number_sections": true,
   "sideBar": true,
   "skip_h1_title": false,
   "title_cell": "Table of Contents",
   "title_sidebar": "Contents",
   "toc_cell": false,
   "toc_position": {},
   "toc_section_display": true,
   "toc_window_display": false
  }
 },
 "nbformat": 4,
 "nbformat_minor": 5
}
